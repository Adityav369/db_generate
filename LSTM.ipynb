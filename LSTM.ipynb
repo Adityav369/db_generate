{
  "nbformat": 4,
  "nbformat_minor": 0,
  "metadata": {
    "colab": {
      "name": "LSTM.ipynb",
      "provenance": [],
      "authorship_tag": "ABX9TyNbpJuE9gNvAJNyVnzMGpN1",
      "include_colab_link": true
    },
    "kernelspec": {
      "name": "python3",
      "display_name": "Python 3"
    },
    "language_info": {
      "name": "python"
    }
  },
  "cells": [
    {
      "cell_type": "markdown",
      "metadata": {
        "id": "view-in-github",
        "colab_type": "text"
      },
      "source": [
        "<a href=\"https://colab.research.google.com/github/Adityav369/db_generate/blob/master/LSTM.ipynb\" target=\"_parent\"><img src=\"https://colab.research.google.com/assets/colab-badge.svg\" alt=\"Open In Colab\"/></a>"
      ]
    },
    {
      "cell_type": "code",
      "execution_count": 45,
      "metadata": {
        "id": "M-lPdWls9DQ0"
      },
      "outputs": [],
      "source": [
        "import math\n",
        "import matplotlib.pyplot as plt\n",
        "import keras\n",
        "import pandas as pd\n",
        "import numpy as np\n",
        "from keras.models import Sequential\n",
        "from keras.layers import Dense\n",
        "from keras.layers import LSTM\n",
        "from keras.layers import Dropout\n",
        "from keras.layers import *\n",
        "from sklearn.preprocessing import MinMaxScaler\n",
        "from sklearn.metrics import mean_squared_error\n",
        "from sklearn.metrics import mean_absolute_error\n",
        "from sklearn.model_selection import train_test_split\n",
        "from keras.callbacks import EarlyStopping"
      ]
    },
    {
      "cell_type": "code",
      "source": [
        "def getData():\n",
        "  df = pd.read_csv(\"AAPL.csv\")\n",
        "  train = df.iloc[:1000, 1:2].values\n",
        "  test = df.iloc[1000:, 1:2].values\n",
        "  return train, train_test_split\n"
      ],
      "metadata": {
        "id": "PrHSkpjl9ioi"
      },
      "execution_count": 46,
      "outputs": []
    },
    {
      "cell_type": "code",
      "source": [
        "def scaleData(train, test):\n",
        "  # Feature Scaling\n",
        "  sc = MinMaxScaler(feature_range = (0, 1))\n",
        "  train_scaled = sc.fit_transform(train)\n",
        "  # Creating a data structure with 60 time-steps and 1 output\n",
        "  X_train = []\n",
        "  y_train = []\n",
        "  for i in range(60, 1000):\n",
        "      X_train.append(train_scaled[i-60:i, 0])\n",
        "      y_train.append(train_scaled[i, 0])\n",
        "  X_train, y_train = np.array(X_train), np.array(y_train)\n",
        "  X_train = np.reshape(X_train, (X_train.shape[0], X_train.shape[1], 1))"
      ],
      "metadata": {
        "id": "m6EV004EDcrP"
      },
      "execution_count": 47,
      "outputs": []
    },
    {
      "cell_type": "code",
      "source": [
        "model = Sequential()\n",
        "#Adding the first LSTM layer and some Dropout regularisation\n",
        "model.add(LSTM(units = 50, return_sequences = True, input_shape = (X_train.shape[1], 1)))\n",
        "model.add(Dropout(0.2))\n",
        "# Adding a second LSTM layer and some Dropout regularisation\n",
        "model.add(LSTM(units = 50, return_sequences = True))\n",
        "model.add(Dropout(0.2))\n",
        "# Adding a third LSTM layer and some Dropout regularisation\n",
        "model.add(LSTM(units = 50, return_sequences = True))\n",
        "model.add(Dropout(0.2))\n",
        "# Adding a fourth LSTM layer and some Dropout regularisation\n",
        "model.add(LSTM(units = 50))\n",
        "model.add(Dropout(0.2))\n",
        "# Adding the output layer\n",
        "model.add(Dense(units = 1))\n",
        "\n",
        "# Compiling the RNN\n",
        "model.compile(optimizer = 'adam', loss = 'mean_squared_error')\n",
        "\n",
        "# Fitting the RNN to the Training set\n",
        "model.fit(X_train, y_train, epochs = 100, batch_size = 32)"
      ],
      "metadata": {
        "colab": {
          "base_uri": "https://localhost:8080/"
        },
        "id": "LMnBtWGvDqha",
        "outputId": "63250499-6fbf-4747-cfb2-f4054b425b15"
      },
      "execution_count": 48,
      "outputs": [
        {
          "output_type": "stream",
          "name": "stdout",
          "text": [
            "Epoch 1/100\n",
            "30/30 [==============================] - 11s 133ms/step - loss: 0.0207\n",
            "Epoch 2/100\n",
            "30/30 [==============================] - 6s 195ms/step - loss: 0.0042\n",
            "Epoch 3/100\n",
            "30/30 [==============================] - 10s 328ms/step - loss: 0.0029\n",
            "Epoch 4/100\n",
            "30/30 [==============================] - 7s 235ms/step - loss: 0.0028\n",
            "Epoch 5/100\n",
            "30/30 [==============================] - 7s 234ms/step - loss: 0.0032\n",
            "Epoch 6/100\n",
            "30/30 [==============================] - 5s 179ms/step - loss: 0.0030\n",
            "Epoch 7/100\n",
            "30/30 [==============================] - 6s 209ms/step - loss: 0.0025\n",
            "Epoch 8/100\n",
            "30/30 [==============================] - 6s 186ms/step - loss: 0.0025\n",
            "Epoch 9/100\n",
            "30/30 [==============================] - 6s 209ms/step - loss: 0.0025\n",
            "Epoch 10/100\n",
            "30/30 [==============================] - 4s 132ms/step - loss: 0.0027\n",
            "Epoch 11/100\n",
            "30/30 [==============================] - 4s 127ms/step - loss: 0.0023\n",
            "Epoch 12/100\n",
            "30/30 [==============================] - 4s 128ms/step - loss: 0.0024\n",
            "Epoch 13/100\n",
            "30/30 [==============================] - 4s 126ms/step - loss: 0.0023\n",
            "Epoch 14/100\n",
            "30/30 [==============================] - 4s 129ms/step - loss: 0.0021\n",
            "Epoch 15/100\n",
            "30/30 [==============================] - 4s 130ms/step - loss: 0.0020\n",
            "Epoch 16/100\n",
            "30/30 [==============================] - 4s 129ms/step - loss: 0.0019\n",
            "Epoch 17/100\n",
            "30/30 [==============================] - 4s 133ms/step - loss: 0.0018\n",
            "Epoch 18/100\n",
            "30/30 [==============================] - 4s 132ms/step - loss: 0.0017\n",
            "Epoch 19/100\n",
            "30/30 [==============================] - 4s 128ms/step - loss: 0.0019\n",
            "Epoch 20/100\n",
            "30/30 [==============================] - 4s 132ms/step - loss: 0.0016\n",
            "Epoch 21/100\n",
            "30/30 [==============================] - 4s 131ms/step - loss: 0.0017\n",
            "Epoch 22/100\n",
            "30/30 [==============================] - 4s 131ms/step - loss: 0.0022\n",
            "Epoch 23/100\n",
            "30/30 [==============================] - 4s 128ms/step - loss: 0.0016\n",
            "Epoch 24/100\n",
            "30/30 [==============================] - 4s 128ms/step - loss: 0.0018\n",
            "Epoch 25/100\n",
            "30/30 [==============================] - 4s 130ms/step - loss: 0.0019\n",
            "Epoch 26/100\n",
            "30/30 [==============================] - 4s 144ms/step - loss: 0.0017\n",
            "Epoch 27/100\n",
            "30/30 [==============================] - 4s 129ms/step - loss: 0.0018\n",
            "Epoch 28/100\n",
            "30/30 [==============================] - 4s 131ms/step - loss: 0.0016\n",
            "Epoch 29/100\n",
            "30/30 [==============================] - 4s 132ms/step - loss: 0.0019\n",
            "Epoch 30/100\n",
            "30/30 [==============================] - 4s 131ms/step - loss: 0.0017\n",
            "Epoch 31/100\n",
            "30/30 [==============================] - 4s 132ms/step - loss: 0.0017\n",
            "Epoch 32/100\n",
            "30/30 [==============================] - 4s 127ms/step - loss: 0.0018\n",
            "Epoch 33/100\n",
            "30/30 [==============================] - 5s 152ms/step - loss: 0.0014\n",
            "Epoch 34/100\n",
            "30/30 [==============================] - 4s 131ms/step - loss: 0.0011\n",
            "Epoch 35/100\n",
            "30/30 [==============================] - 4s 131ms/step - loss: 0.0014\n",
            "Epoch 36/100\n",
            "30/30 [==============================] - 4s 130ms/step - loss: 0.0014\n",
            "Epoch 37/100\n",
            "30/30 [==============================] - 4s 132ms/step - loss: 0.0013\n",
            "Epoch 38/100\n",
            "30/30 [==============================] - 4s 131ms/step - loss: 0.0014\n",
            "Epoch 39/100\n",
            "30/30 [==============================] - 4s 129ms/step - loss: 0.0014\n",
            "Epoch 40/100\n",
            "30/30 [==============================] - 4s 130ms/step - loss: 0.0015\n",
            "Epoch 41/100\n",
            "30/30 [==============================] - 4s 129ms/step - loss: 0.0014\n",
            "Epoch 42/100\n",
            "30/30 [==============================] - 4s 128ms/step - loss: 0.0013\n",
            "Epoch 43/100\n",
            "30/30 [==============================] - 4s 134ms/step - loss: 0.0012\n",
            "Epoch 44/100\n",
            "30/30 [==============================] - 4s 129ms/step - loss: 0.0013\n",
            "Epoch 45/100\n",
            "30/30 [==============================] - 4s 128ms/step - loss: 0.0013\n",
            "Epoch 46/100\n",
            "30/30 [==============================] - 4s 129ms/step - loss: 0.0013\n",
            "Epoch 47/100\n",
            "30/30 [==============================] - 4s 128ms/step - loss: 0.0016\n",
            "Epoch 48/100\n",
            "30/30 [==============================] - 4s 133ms/step - loss: 0.0015\n",
            "Epoch 49/100\n",
            "30/30 [==============================] - 4s 131ms/step - loss: 0.0012\n",
            "Epoch 50/100\n",
            "30/30 [==============================] - 4s 131ms/step - loss: 0.0017\n",
            "Epoch 51/100\n",
            "30/30 [==============================] - 4s 133ms/step - loss: 0.0012\n",
            "Epoch 52/100\n",
            "30/30 [==============================] - 4s 138ms/step - loss: 0.0012\n",
            "Epoch 53/100\n",
            "30/30 [==============================] - 4s 144ms/step - loss: 0.0012\n",
            "Epoch 54/100\n",
            "30/30 [==============================] - 4s 127ms/step - loss: 0.0013\n",
            "Epoch 55/100\n",
            "30/30 [==============================] - 4s 129ms/step - loss: 0.0014\n",
            "Epoch 56/100\n",
            "30/30 [==============================] - 4s 135ms/step - loss: 0.0013\n",
            "Epoch 57/100\n",
            "30/30 [==============================] - 4s 130ms/step - loss: 0.0015\n",
            "Epoch 58/100\n",
            "30/30 [==============================] - 4s 131ms/step - loss: 0.0011\n",
            "Epoch 59/100\n",
            "30/30 [==============================] - 4s 130ms/step - loss: 0.0012\n",
            "Epoch 60/100\n",
            "30/30 [==============================] - 4s 128ms/step - loss: 0.0012\n",
            "Epoch 61/100\n",
            "30/30 [==============================] - 4s 130ms/step - loss: 0.0012\n",
            "Epoch 62/100\n",
            "30/30 [==============================] - 4s 135ms/step - loss: 0.0011\n",
            "Epoch 63/100\n",
            "30/30 [==============================] - 4s 132ms/step - loss: 0.0011\n",
            "Epoch 64/100\n",
            "30/30 [==============================] - 4s 131ms/step - loss: 0.0011\n",
            "Epoch 65/100\n",
            "30/30 [==============================] - 4s 133ms/step - loss: 0.0012\n",
            "Epoch 66/100\n",
            "30/30 [==============================] - 4s 131ms/step - loss: 9.9472e-04\n",
            "Epoch 67/100\n",
            "30/30 [==============================] - 4s 128ms/step - loss: 0.0012\n",
            "Epoch 68/100\n",
            "30/30 [==============================] - 4s 128ms/step - loss: 9.7289e-04\n",
            "Epoch 69/100\n",
            "30/30 [==============================] - 4s 130ms/step - loss: 0.0011\n",
            "Epoch 70/100\n",
            "30/30 [==============================] - 4s 132ms/step - loss: 0.0012\n",
            "Epoch 71/100\n",
            "30/30 [==============================] - 4s 130ms/step - loss: 0.0013\n",
            "Epoch 72/100\n",
            "30/30 [==============================] - 4s 129ms/step - loss: 0.0011\n",
            "Epoch 73/100\n",
            "30/30 [==============================] - 4s 130ms/step - loss: 0.0012\n",
            "Epoch 74/100\n",
            "30/30 [==============================] - 4s 130ms/step - loss: 0.0013\n",
            "Epoch 75/100\n",
            "30/30 [==============================] - 4s 132ms/step - loss: 0.0011\n",
            "Epoch 76/100\n",
            "30/30 [==============================] - 4s 131ms/step - loss: 0.0011\n",
            "Epoch 77/100\n",
            "30/30 [==============================] - 4s 131ms/step - loss: 0.0011\n",
            "Epoch 78/100\n",
            "30/30 [==============================] - 4s 129ms/step - loss: 9.8789e-04\n",
            "Epoch 79/100\n",
            "30/30 [==============================] - 4s 131ms/step - loss: 9.3064e-04\n",
            "Epoch 80/100\n",
            "30/30 [==============================] - 4s 131ms/step - loss: 9.3701e-04\n",
            "Epoch 81/100\n",
            "30/30 [==============================] - 4s 131ms/step - loss: 0.0012\n",
            "Epoch 82/100\n",
            "30/30 [==============================] - 4s 129ms/step - loss: 0.0010\n",
            "Epoch 83/100\n",
            "30/30 [==============================] - 4s 129ms/step - loss: 0.0011\n",
            "Epoch 84/100\n",
            "30/30 [==============================] - 4s 129ms/step - loss: 8.1147e-04\n",
            "Epoch 85/100\n",
            "30/30 [==============================] - 4s 130ms/step - loss: 0.0010\n",
            "Epoch 86/100\n",
            "30/30 [==============================] - 4s 128ms/step - loss: 9.9455e-04\n",
            "Epoch 87/100\n",
            "30/30 [==============================] - 4s 134ms/step - loss: 7.6571e-04\n",
            "Epoch 88/100\n",
            "30/30 [==============================] - 4s 130ms/step - loss: 8.8333e-04\n",
            "Epoch 89/100\n",
            "30/30 [==============================] - 4s 128ms/step - loss: 9.0404e-04\n",
            "Epoch 90/100\n",
            "30/30 [==============================] - 4s 127ms/step - loss: 8.6884e-04\n",
            "Epoch 91/100\n",
            "30/30 [==============================] - 4s 130ms/step - loss: 9.5829e-04\n",
            "Epoch 92/100\n",
            "30/30 [==============================] - 4s 129ms/step - loss: 0.0011\n",
            "Epoch 93/100\n",
            "30/30 [==============================] - 4s 131ms/step - loss: 0.0011\n",
            "Epoch 94/100\n",
            "30/30 [==============================] - 4s 130ms/step - loss: 8.6548e-04\n",
            "Epoch 95/100\n",
            "30/30 [==============================] - 4s 130ms/step - loss: 0.0011\n",
            "Epoch 96/100\n",
            "30/30 [==============================] - 4s 131ms/step - loss: 8.7309e-04\n",
            "Epoch 97/100\n",
            "30/30 [==============================] - 4s 133ms/step - loss: 9.6446e-04\n",
            "Epoch 98/100\n",
            "30/30 [==============================] - 4s 131ms/step - loss: 9.1126e-04\n",
            "Epoch 99/100\n",
            "30/30 [==============================] - 4s 130ms/step - loss: 0.0011\n",
            "Epoch 100/100\n",
            "30/30 [==============================] - 4s 129ms/step - loss: 0.0010\n"
          ]
        },
        {
          "output_type": "execute_result",
          "data": {
            "text/plain": [
              "<keras.callbacks.History at 0x7fcfdc22a250>"
            ]
          },
          "metadata": {},
          "execution_count": 48
        }
      ]
    },
    {
      "cell_type": "code",
      "source": [
        "dataset_train = df.iloc[:1000, 1:2]\n",
        "dataset_test = df.iloc[1000:, 1:2]\n",
        "dataset_total = pd.concat((dataset_train, dataset_test), axis = 0)\n",
        "inputs = dataset_total[len(dataset_total) - len(dataset_test) - 60:].values\n",
        "inputs = inputs.reshape(-1,1)\n",
        "inputs = sc.transform(inputs)\n",
        "X_test = []\n",
        "for i in range(60, 1000):\n",
        "    X_test.append(inputs[i-60:i, 0])\n",
        "X_test = np.array(X_test)\n",
        "X_test = np.reshape(X_test, (X_test.shape[0], X_test.shape[1], 1))\n",
        "print(X_test.shape)\n",
        "# (459, 60, 1)"
      ],
      "metadata": {
        "colab": {
          "base_uri": "https://localhost:8080/",
          "height": 286
        },
        "id": "teofMQL-DupT",
        "outputId": "f76f32b8-4070-4b29-dd27-572ae9119715"
      },
      "execution_count": 52,
      "outputs": [
        {
          "output_type": "stream",
          "name": "stderr",
          "text": [
            "/usr/local/lib/python3.7/dist-packages/ipykernel_launcher.py:10: VisibleDeprecationWarning: Creating an ndarray from ragged nested sequences (which is a list-or-tuple of lists-or-tuples-or ndarrays with different lengths or shapes) is deprecated. If you meant to do this, you must specify 'dtype=object' when creating the ndarray\n",
            "  # Remove the CWD from sys.path while we load stuff.\n"
          ]
        },
        {
          "output_type": "error",
          "ename": "IndexError",
          "evalue": "ignored",
          "traceback": [
            "\u001b[0;31m---------------------------------------------------------------------------\u001b[0m",
            "\u001b[0;31mIndexError\u001b[0m                                Traceback (most recent call last)",
            "\u001b[0;32m<ipython-input-52-2c8efb8ca002>\u001b[0m in \u001b[0;36m<module>\u001b[0;34m()\u001b[0m\n\u001b[1;32m      9\u001b[0m     \u001b[0mX_test\u001b[0m\u001b[0;34m.\u001b[0m\u001b[0mappend\u001b[0m\u001b[0;34m(\u001b[0m\u001b[0minputs\u001b[0m\u001b[0;34m[\u001b[0m\u001b[0mi\u001b[0m\u001b[0;34m-\u001b[0m\u001b[0;36m60\u001b[0m\u001b[0;34m:\u001b[0m\u001b[0mi\u001b[0m\u001b[0;34m,\u001b[0m \u001b[0;36m0\u001b[0m\u001b[0;34m]\u001b[0m\u001b[0;34m)\u001b[0m\u001b[0;34m\u001b[0m\u001b[0;34m\u001b[0m\u001b[0m\n\u001b[1;32m     10\u001b[0m \u001b[0mX_test\u001b[0m \u001b[0;34m=\u001b[0m \u001b[0mnp\u001b[0m\u001b[0;34m.\u001b[0m\u001b[0marray\u001b[0m\u001b[0;34m(\u001b[0m\u001b[0mX_test\u001b[0m\u001b[0;34m)\u001b[0m\u001b[0;34m\u001b[0m\u001b[0;34m\u001b[0m\u001b[0m\n\u001b[0;32m---> 11\u001b[0;31m \u001b[0mX_test\u001b[0m \u001b[0;34m=\u001b[0m \u001b[0mnp\u001b[0m\u001b[0;34m.\u001b[0m\u001b[0mreshape\u001b[0m\u001b[0;34m(\u001b[0m\u001b[0mX_test\u001b[0m\u001b[0;34m,\u001b[0m \u001b[0;34m(\u001b[0m\u001b[0mX_test\u001b[0m\u001b[0;34m.\u001b[0m\u001b[0mshape\u001b[0m\u001b[0;34m[\u001b[0m\u001b[0;36m0\u001b[0m\u001b[0;34m]\u001b[0m\u001b[0;34m,\u001b[0m \u001b[0mX_test\u001b[0m\u001b[0;34m.\u001b[0m\u001b[0mshape\u001b[0m\u001b[0;34m[\u001b[0m\u001b[0;36m1\u001b[0m\u001b[0;34m]\u001b[0m\u001b[0;34m,\u001b[0m \u001b[0;36m1\u001b[0m\u001b[0;34m)\u001b[0m\u001b[0;34m)\u001b[0m\u001b[0;34m\u001b[0m\u001b[0;34m\u001b[0m\u001b[0m\n\u001b[0m\u001b[1;32m     12\u001b[0m \u001b[0mprint\u001b[0m\u001b[0;34m(\u001b[0m\u001b[0mX_test\u001b[0m\u001b[0;34m.\u001b[0m\u001b[0mshape\u001b[0m\u001b[0;34m)\u001b[0m\u001b[0;34m\u001b[0m\u001b[0;34m\u001b[0m\u001b[0m\n\u001b[1;32m     13\u001b[0m \u001b[0;31m# (459, 60, 1)\u001b[0m\u001b[0;34m\u001b[0m\u001b[0;34m\u001b[0m\u001b[0;34m\u001b[0m\u001b[0m\n",
            "\u001b[0;31mIndexError\u001b[0m: tuple index out of range"
          ]
        }
      ]
    },
    {
      "cell_type": "code",
      "source": [
        "predicted_stock_price = model.predict(X_test)\n",
        "predicted_stock_price = sc.inverse_transform(predicted_stock_price)"
      ],
      "metadata": {
        "colab": {
          "base_uri": "https://localhost:8080/",
          "height": 324
        },
        "id": "gXWHTCXQE5YV",
        "outputId": "95d079b3-d451-4fc4-c8ec-41ccdb7a1996"
      },
      "execution_count": 51,
      "outputs": [
        {
          "output_type": "error",
          "ename": "ValueError",
          "evalue": "ignored",
          "traceback": [
            "\u001b[0;31m---------------------------------------------------------------------------\u001b[0m",
            "\u001b[0;31mValueError\u001b[0m                                Traceback (most recent call last)",
            "\u001b[0;32m<ipython-input-51-c41b1e31b78c>\u001b[0m in \u001b[0;36m<module>\u001b[0;34m()\u001b[0m\n\u001b[0;32m----> 1\u001b[0;31m \u001b[0mpredicted_stock_price\u001b[0m \u001b[0;34m=\u001b[0m \u001b[0mmodel\u001b[0m\u001b[0;34m.\u001b[0m\u001b[0mpredict\u001b[0m\u001b[0;34m(\u001b[0m\u001b[0mX_test\u001b[0m\u001b[0;34m)\u001b[0m\u001b[0;34m\u001b[0m\u001b[0;34m\u001b[0m\u001b[0m\n\u001b[0m\u001b[1;32m      2\u001b[0m \u001b[0mpredicted_stock_price\u001b[0m \u001b[0;34m=\u001b[0m \u001b[0msc\u001b[0m\u001b[0;34m.\u001b[0m\u001b[0minverse_transform\u001b[0m\u001b[0;34m(\u001b[0m\u001b[0mpredicted_stock_price\u001b[0m\u001b[0;34m)\u001b[0m\u001b[0;34m\u001b[0m\u001b[0;34m\u001b[0m\u001b[0m\n",
            "\u001b[0;32m/usr/local/lib/python3.7/dist-packages/keras/utils/traceback_utils.py\u001b[0m in \u001b[0;36merror_handler\u001b[0;34m(*args, **kwargs)\u001b[0m\n\u001b[1;32m     65\u001b[0m     \u001b[0;32mexcept\u001b[0m \u001b[0mException\u001b[0m \u001b[0;32mas\u001b[0m \u001b[0me\u001b[0m\u001b[0;34m:\u001b[0m  \u001b[0;31m# pylint: disable=broad-except\u001b[0m\u001b[0;34m\u001b[0m\u001b[0;34m\u001b[0m\u001b[0m\n\u001b[1;32m     66\u001b[0m       \u001b[0mfiltered_tb\u001b[0m \u001b[0;34m=\u001b[0m \u001b[0m_process_traceback_frames\u001b[0m\u001b[0;34m(\u001b[0m\u001b[0me\u001b[0m\u001b[0;34m.\u001b[0m\u001b[0m__traceback__\u001b[0m\u001b[0;34m)\u001b[0m\u001b[0;34m\u001b[0m\u001b[0;34m\u001b[0m\u001b[0m\n\u001b[0;32m---> 67\u001b[0;31m       \u001b[0;32mraise\u001b[0m \u001b[0me\u001b[0m\u001b[0;34m.\u001b[0m\u001b[0mwith_traceback\u001b[0m\u001b[0;34m(\u001b[0m\u001b[0mfiltered_tb\u001b[0m\u001b[0;34m)\u001b[0m \u001b[0;32mfrom\u001b[0m \u001b[0;32mNone\u001b[0m\u001b[0;34m\u001b[0m\u001b[0;34m\u001b[0m\u001b[0m\n\u001b[0m\u001b[1;32m     68\u001b[0m     \u001b[0;32mfinally\u001b[0m\u001b[0;34m:\u001b[0m\u001b[0;34m\u001b[0m\u001b[0;34m\u001b[0m\u001b[0m\n\u001b[1;32m     69\u001b[0m       \u001b[0;32mdel\u001b[0m \u001b[0mfiltered_tb\u001b[0m\u001b[0;34m\u001b[0m\u001b[0;34m\u001b[0m\u001b[0m\n",
            "\u001b[0;32m/usr/local/lib/python3.7/dist-packages/tensorflow/python/framework/constant_op.py\u001b[0m in \u001b[0;36mconvert_to_eager_tensor\u001b[0;34m(value, ctx, dtype)\u001b[0m\n\u001b[1;32m    104\u001b[0m       \u001b[0mdtype\u001b[0m \u001b[0;34m=\u001b[0m \u001b[0mdtypes\u001b[0m\u001b[0;34m.\u001b[0m\u001b[0mas_dtype\u001b[0m\u001b[0;34m(\u001b[0m\u001b[0mdtype\u001b[0m\u001b[0;34m)\u001b[0m\u001b[0;34m.\u001b[0m\u001b[0mas_datatype_enum\u001b[0m\u001b[0;34m\u001b[0m\u001b[0;34m\u001b[0m\u001b[0m\n\u001b[1;32m    105\u001b[0m   \u001b[0mctx\u001b[0m\u001b[0;34m.\u001b[0m\u001b[0mensure_initialized\u001b[0m\u001b[0;34m(\u001b[0m\u001b[0;34m)\u001b[0m\u001b[0;34m\u001b[0m\u001b[0;34m\u001b[0m\u001b[0m\n\u001b[0;32m--> 106\u001b[0;31m   \u001b[0;32mreturn\u001b[0m \u001b[0mops\u001b[0m\u001b[0;34m.\u001b[0m\u001b[0mEagerTensor\u001b[0m\u001b[0;34m(\u001b[0m\u001b[0mvalue\u001b[0m\u001b[0;34m,\u001b[0m \u001b[0mctx\u001b[0m\u001b[0;34m.\u001b[0m\u001b[0mdevice_name\u001b[0m\u001b[0;34m,\u001b[0m \u001b[0mdtype\u001b[0m\u001b[0;34m)\u001b[0m\u001b[0;34m\u001b[0m\u001b[0;34m\u001b[0m\u001b[0m\n\u001b[0m\u001b[1;32m    107\u001b[0m \u001b[0;34m\u001b[0m\u001b[0m\n\u001b[1;32m    108\u001b[0m \u001b[0;34m\u001b[0m\u001b[0m\n",
            "\u001b[0;31mValueError\u001b[0m: Failed to convert a NumPy array to a Tensor (Unsupported object type numpy.ndarray)."
          ]
        }
      ]
    },
    {
      "cell_type": "code",
      "source": [
        "# Visualising the results\n",
        "plt.plot(df.loc[800:, 'Date'],dataset_test.values, color = 'red', label = 'Real AAPL Stock Price')\n",
        "plt.plot(df.loc[799:, 'Date'],predicted_stock_price, color = 'blue', label = 'Predicted AAPL Stock Price')\n",
        "plt.xticks(np.arange(0,459,50))\n",
        "plt.title('AAPL Stock Price Prediction')\n",
        "plt.xlabel('Time')\n",
        "plt.ylabel('AAPL Stock Price')\n",
        "plt.legend()\n",
        "plt.show()"
      ],
      "metadata": {
        "colab": {
          "base_uri": "https://localhost:8080/",
          "height": 295
        },
        "id": "ockogCloE92S",
        "outputId": "360c365e-5ebe-4f5e-ff8d-ce5204453d01"
      },
      "execution_count": 34,
      "outputs": [
        {
          "output_type": "display_data",
          "data": {
            "image/png": "[encoded data removed]",
            "text/plain": [
              "<Figure size 432x288 with 1 Axes>"
            ]
          },
          "metadata": {
            "needs_background": "light"
          }
        }
      ]
    }
  ]
}